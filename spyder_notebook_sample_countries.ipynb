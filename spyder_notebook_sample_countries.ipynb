import matplotlib.pyplot as plt
import pandas as pd
import seaborn as sns 

"""Read and open the csv file"""

country=pd.read_csv('countries.csv')
print(country.head(10))
print(country.columns)


#data on a certain country and population slicing 
Romania=country[country.country=='Romania']
print(Romania)
Ro=Romania.population.iloc[0:12]
print(Ro)
Roy=Romania.year.iloc[0:12]
print(Roy)
country.columns=['country','year','population']

#extract population column and do the mean of it.
p=country.population
p_mean=p.mean
print(p_mean)

country['Mean_population']=p.mean
print(country.columns)

#print population on a certain country+slice it and perform mean
Romania=country[country.country=='Romania']
R0=Romania.population.iloc[:5]
print(Ro.head(3))
r=Romania.population
r_mean=r.mean
print(r_mean)
#------------------------------------------------------------------------

"""Perform charts on the data"""
print(country.head(0))
print(country.columns)
p=country.population
p_mean=p.mean
print(p_mean)


vis1 = sns.distplot(country["population"])
dots= sns.lmplot(data=country, x='year', y='population',
                 fit_reg=False)
vis4= sns.boxplot(data=country, x="year", y="population")

sns.pairplot(country)
plt.show()


































































